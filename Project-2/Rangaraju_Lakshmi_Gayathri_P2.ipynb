{
 "cells": [
  {
   "cell_type": "markdown",
   "metadata": {},
   "source": [
    "# Project 2: Choosing a Model for Predicting on Unseen Data\n",
    "\n",
    "Before we start, please put your name and CUID in following format\n",
    "\n",
    ": Firstname LASTNAME, #00000000   //   e.g. Nianyi LI, #12345678"
   ]
  },
  {
   "cell_type": "markdown",
   "metadata": {},
   "source": [
    "**Your Answer:**   \n",
    "Lakshmi Gayathri Rangaraju, #C81311556"
   ]
  },
  {
   "cell_type": "markdown",
   "metadata": {},
   "source": [
    "# General Rules of the Project Submission\n",
    "\n",
    "Python 3 and [Matplotlib](https://matplotlib.org/) will be used throughout the semseter, so it is important to be familiar with them. It is strongly suggested to go through [Stanford CS231n](http://cs231n.github.io/python-numpy-tutorial/) and [CS228](https://github.com/kuleshov/cs228-material/blob/master/tutorials/python/cs228-python-tutorial.ipynb) for more detailed Python and numpy tutorials if you haven't had used Python before. \n",
    "\n",
    "In some cells and files you will see code blocks that look like this:\n",
    "\n",
    "```python\n",
    "##############################################################################\n",
    "#                    TODO: Write the equation for a line                     #\n",
    "##############################################################################\n",
    "pass\n",
    "##############################################################################\n",
    "#                              END OF YOUR CODE                              #\n",
    "##############################################################################\n",
    "```\n",
    "\n",
    "You should replace the `pass` statement with your own code and leave the blocks intact, like this:\n",
    "\n",
    "```python\n",
    "##############################################################################\n",
    "#                    TODO: Write the equation for a line                     #\n",
    "##############################################################################\n",
    "y = m * x + b\n",
    "##############################################################################\n",
    "#                              END OF YOUR CODE                              #\n",
    "##############################################################################\n",
    "```\n",
    "\n",
    "When completing the notebook, please adhere to the following rules:\n",
    "- Do not write or modify any code outside of code blocks\n",
    "- Follow the instruction of the project description carefully\n",
    "- Run all cells before submitting. <span style=\"color:red\">**You will only get credit for code that has been run!**.</span>\n",
    "\n",
    "The last point is extremely important and bears repeating:\n",
    "\n",
    "### We will not re-run your notebook -- <span style=\"color:red\">you will only get credit for cells that have been run</span>\n",
    "\n",
    "### File name\n",
    "Your Python program should be named **yourlastname_yourfirstname_P2.ipynb**, then zip it and upload to Canvas\n",
    "\n",
    "### Package usage\n",
    "You <span style=\"color:red\">**cannot**</span> use python machine learning package that can have the k-fold validation algorithm as embedded function, for instance, **sklearn** package."
   ]
  },
  {
   "cell_type": "markdown",
   "metadata": {},
   "source": [
    "# Project Description\n",
    "\n",
    "For Project 2 you will create a regression program and choose a model to predict the women’s Olympic 100-meter race record time for year **2024**. We will code the year of each race as we did in lecture 2.3. \n",
    "\n",
    "![caption](https://nianyil.people.clemson.edu/CPSC_4430/P2.jpg)\n"
   ]
  },
  {
   "cell_type": "markdown",
   "metadata": {},
   "source": [
    "## Data File"
   ]
  },
  {
   "cell_type": "markdown",
   "metadata": {},
   "source": [
    "A text file with the data is available on Canvas for the years 1928 through 2008 when the Olympics were held. The first line of the text file indicating there’re **m** lines of data and a **n** number of features (in this case, one). You need to write a code to read data from the file. You **can** use packages, such as **panda**, to load the data."
   ]
  },
  {
   "cell_type": "code",
   "execution_count": 87,
   "metadata": {},
   "outputs": [],
   "source": [
    "##############################################################################\n",
    "#         TODO: Write the code for reading data from file                    #\n",
    "##############################################################################\n",
    "import pandas as pd\n",
    "import numpy as np\n",
    "\n",
    "data = pd.read_csv(\"W100MTimes.txt\", sep=\"\\t\", names=[\"Year\", \"Time in secs\"])\n",
    "x = pd.DataFrame(data[\"Year\"])\n",
    "x0 = np.ones(len(x), dtype=np.int8)\n",
    "x.insert(loc = 0, column = 'x0', value = x0)\n",
    "y = data[\"Time in secs\"]\n",
    "##############################################################################\n",
    "#                              END OF YOUR CODE                              #\n",
    "##############################################################################"
   ]
  },
  {
   "cell_type": "markdown",
   "metadata": {},
   "source": [
    "## Pick the Best Model"
   ]
  },
  {
   "cell_type": "markdown",
   "metadata": {},
   "source": [
    "Your project assignment is to compare four different models, linear, quadratic, cubic, and fourth. \n",
    "\n",
    "- $h_w(x) = w_0 + w_1x$\n",
    "- $h_w(x) = w_0 + w_1x + w_2x^2$\n",
    "- $h_w(x) = w_0 + w_1x + w_2x^2 + w_3x^3$\n",
    "- $h_w(x) = w_0 + w_1x + w_2x^2 + w_3x^3 + w_4x^4$\n"
   ]
  },
  {
   "cell_type": "code",
   "execution_count": 88,
   "metadata": {},
   "outputs": [],
   "source": [
    "##############################################################################\n",
    "#                 TODO: Define the regression models                         #\n",
    "##############################################################################\n",
    "import numpy as np\n",
    "\n",
    "linear = x\n",
    "\n",
    "quadratic = linear.copy(deep=True)\n",
    "year_2 = quadratic[\"Year\"]**2\n",
    "quadratic.insert(loc = 2, column = \"Year^2\", value = year_2)\n",
    "\n",
    "cubic = quadratic.copy(deep=True)\n",
    "year_3 = cubic[\"Year\"]**3\n",
    "cubic.insert(loc = 3, column = 'year^3', value = year_3)\n",
    "\n",
    "fourth = cubic.copy(deep=True)\n",
    "year_4 = fourth[\"Year\"]**4\n",
    "fourth.insert(loc = 4, column = 'year^4', value = year_4)\n",
    "\n",
    "linear.insert(loc = 2, column = \"Time in secs\", value = y)\n",
    "quadratic.insert(loc = 3, column = \"Time in secs\", value = y)\n",
    "cubic.insert(loc = 4, column = 'Time in secs', value = y)\n",
    "fourth.insert(loc = 5, column = 'Time in secs', value = y)\n",
    "\n",
    "def get_weights(x, y):\n",
    "    w = np.matmul(np.matmul(np.linalg.inv(np.matmul(x.transpose(), x)), x.transpose()), y)\n",
    "    return w\n",
    "\n",
    "def get_training_data(num_examples, fold, data):\n",
    "    lower_limit = (0 if fold==1 else num_examples*(fold-1)) \n",
    "    upper_limit = num_examples*fold\n",
    "    val_data = data[lower_limit: upper_limit]\n",
    "    val_ind = data.index.isin(range(lower_limit, upper_limit))\n",
    "    train_data =  data[~val_ind]\n",
    "    return (train_data, val_data)\n",
    "\n",
    "def get_mean_square_error(x, w, y):\n",
    "    predicted = np.matmul(x, w)\n",
    "    temp = predicted-y\n",
    "    m = x.shape[0]\n",
    "    error = np.matmul(np.transpose(temp), temp) / m\n",
    "    return error\n",
    "    \n",
    "##############################################################################\n",
    "#                              END OF YOUR CODE                              #\n",
    "##############################################################################"
   ]
  },
  {
   "cell_type": "markdown",
   "metadata": {},
   "source": [
    "Next, you need to use <span style=\"color:red\">**5-fold cross validation**</span> to pick out the best model for the prediction. You should present a chart of the error function $J$, similar to the one in the lecture (see below). You may need to use package like \"**tabulate**\" to print out the table.\n",
    "\n",
    "```\n",
    "                     Linear    Quadratic    Cubic    Fourth\n",
    "-----------------  --------  -----------  -------  --------\n",
    "1234                  10.25        24.25    12.25     23.25\n",
    "5                     10.25        19.25    14.25     23.25\n",
    "1235                  10.25        15.25    19.25     23.25\n",
    "4                     10.25        10.25    20.25     23.25\n",
    "1245                  10.25        24.25    12.25     23.25\n",
    "3                     10.25        19.25    14.25     23.25\n",
    "1345                  10.25        24.25    12.25     23.25\n",
    "2                     10.25        19.25    14.25     23.25\n",
    "2345                  10.25        24.25    12.25     23.25\n",
    "1                     10.25        19.25    14.25     23.25\n",
    "Mean for Training      0            0        0         0\n",
    "Mean for Testing       0            0        0         0\n",
    "```\n",
    "\n",
    "You need to **plot** your training and testing $J$ with respect to the polynomial degree, similar to the one in the lecture."
   ]
  },
  {
   "cell_type": "code",
   "execution_count": 89,
   "metadata": {},
   "outputs": [
    {
     "name": "stderr",
     "output_type": "stream",
     "text": [
      "C:\\Users\\rlgay\\AppData\\Local\\Temp\\ipykernel_38164\\778087192.py:26: FutureWarning: Calling a ufunc on non-aligned DataFrames (or DataFrame/Series combination). Currently, the indices are ignored and the result takes the index/columns of the first DataFrame. In the future , the DataFrames/Series will be aligned before applying the ufunc.\n",
      "Convert one of the arguments to a NumPy array (eg 'ufunc(df1, np.asarray(df2)') to keep the current behaviour, or align manually (eg 'df1, df2 = df1.align(df2)') before passing to the ufunc to obtain the future behaviour and silence this warning.\n",
      "  w = np.matmul(np.matmul(np.linalg.inv(np.matmul(x.transpose(), x)), x.transpose()), y)\n",
      "C:\\Users\\rlgay\\AppData\\Local\\Temp\\ipykernel_38164\\778087192.py:38: FutureWarning: Calling a ufunc on non-aligned DataFrames (or DataFrame/Series combination). Currently, the indices are ignored and the result takes the index/columns of the first DataFrame. In the future , the DataFrames/Series will be aligned before applying the ufunc.\n",
      "Convert one of the arguments to a NumPy array (eg 'ufunc(df1, np.asarray(df2)') to keep the current behaviour, or align manually (eg 'df1, df2 = df1.align(df2)') before passing to the ufunc to obtain the future behaviour and silence this warning.\n",
      "  predicted = np.matmul(x, w)\n"
     ]
    }
   ],
   "source": [
    "##############################################################################\n",
    "#                     TODO: 5-fold cross-validation                         #\n",
    "##############################################################################\n",
    "linear_errors = []\n",
    "quadratic_errors = []\n",
    "cubic_errors = []\n",
    "fourth_errors = []\n",
    "indices = []\n",
    "\n",
    "linear_train_mse = 0\n",
    "linear_val_mse = 0\n",
    "cubic_train_mse = 0\n",
    "cubic_val_mse = 0\n",
    "quad_train_mse = 0\n",
    "quad_val_mse = 0\n",
    "fourth_train_mse = 0\n",
    "fourth_val_mse = 0\n",
    "\n",
    "num_examples = len(x) // 5\n",
    "for fold in range(1,6):\n",
    "    train_str = \"\"\n",
    "    for num in range(1,6):\n",
    "        if num != fold:\n",
    "            train_str = train_str + str(num)\n",
    "            \n",
    "    indices.append(train_str)\n",
    "    indices.append(fold)\n",
    "    \n",
    "    # Cal error for linear model\n",
    "    train_data, val_data = get_training_data(num_examples, fold, linear)\n",
    "    train_x, train_y, val_x, val_y = train_data.iloc[:,0:2], train_data.iloc[:, -1], val_data.iloc[:,0:2], val_data.iloc[:, -1]\n",
    "    weights = get_weights(train_x, train_y)\n",
    "    train_j = get_mean_square_error(train_x, weights, train_y)\n",
    "    val_j = get_mean_square_error(val_x, weights, val_y)\n",
    "    linear_errors.append(train_j)\n",
    "    linear_train_mse = linear_train_mse + train_j\n",
    "    linear_errors.append(val_j)\n",
    "    linear_val_mse = linear_val_mse + val_j\n",
    "    \n",
    "    # Cal error for quadratic model\n",
    "    train_data, val_data = get_training_data(num_examples, fold, quadratic)\n",
    "    train_x, train_y, val_x, val_y = train_data.iloc[:,0:3], train_data.iloc[:, -1], val_data.iloc[:,0:3], val_data.iloc[:, -1]\n",
    "    weights = get_weights(train_x, train_y)\n",
    "    train_j = get_mean_square_error(train_x, weights, train_y)\n",
    "    val_j = get_mean_square_error(val_x, weights, val_y)\n",
    "    quadratic_errors.append(train_j)\n",
    "    quad_train_mse = quad_train_mse + train_j\n",
    "    quadratic_errors.append(val_j)\n",
    "    quad_val_mse = quad_val_mse + val_j\n",
    "    \n",
    "    # Cal error for cubic model\n",
    "    train_data, val_data = get_training_data(num_examples, fold, cubic)\n",
    "    train_x, train_y, val_x, val_y = train_data.iloc[:,0:4], train_data.iloc[:, -1], val_data.iloc[:,0:4], val_data.iloc[:, -1]\n",
    "    weights = get_weights(train_x, train_y)\n",
    "    train_j = get_mean_square_error(train_x, weights, train_y)\n",
    "    val_j = get_mean_square_error(val_x, weights, val_y)\n",
    "    cubic_errors.append(train_j)\n",
    "    cubic_train_mse = cubic_train_mse + train_j\n",
    "    cubic_errors.append(val_j)\n",
    "    cubic_val_mse = cubic_val_mse + val_j\n",
    "    \n",
    "    # Cal error for fourth model\n",
    "    train_data, val_data = get_training_data(num_examples, fold, fourth)\n",
    "    train_x, train_y, val_x, val_y = train_data.iloc[:,0:5], train_data.iloc[:, -1], val_data.iloc[:,0:5], val_data.iloc[:, -1]\n",
    "    weights = get_weights(train_x, train_y)\n",
    "    train_j = get_mean_square_error(train_x, weights, train_y)\n",
    "    val_j = get_mean_square_error(val_x, weights, val_y)\n",
    "    fourth_errors.append(train_j)\n",
    "    fourth_train_mse = fourth_train_mse + train_j\n",
    "    fourth_errors.append(val_j)\n",
    "    fourth_val_mse = fourth_val_mse + val_j\n",
    "    \n",
    "mean_train = [linear_train_mse/5, quad_train_mse/5, cubic_train_mse/5, fourth_train_mse/5]\n",
    "mean_test = [linear_val_mse/5, quad_val_mse/5, cubic_val_mse/5, fourth_val_mse/5]\n",
    "        \n",
    "##############################################################################\n",
    "#                              END OF YOUR CODE                              #\n",
    "##############################################################################"
   ]
  },
  {
   "cell_type": "code",
   "execution_count": 90,
   "metadata": {},
   "outputs": [
    {
     "name": "stdout",
     "output_type": "stream",
     "text": [
      "  Folds     Linear  Quadratic      Cubic     Fourth\n",
      "0  2345   0.044168   0.026931   0.025022   0.024967\n",
      "1     1  29.620627  37.727886  48.613408  55.681805\n",
      "2  1345   5.396303   4.198064   1.684869   0.562820\n",
      "3     2   2.551925   0.446558   5.195475   2.120409\n",
      "4  1245   5.815370   4.078013   2.193300   0.629102\n",
      "5     3   0.285059   1.438713   0.337457   1.307580\n",
      "6  1235   5.818158   4.119748   2.044616   0.728612\n",
      "7     4   0.296614   1.040757   1.765498   0.282597\n",
      "8  1234   5.641634   3.598446   1.517008   0.457542\n",
      "9     5   2.030167  15.762962  46.449497  84.415540\n",
      "Mean Train [4.5431267730025, 3.204240530580885, 1.4929630297132133, 0.48060848541678586]\n",
      "Mean Test [6.956878326604722, 11.283375045276888, 20.472266818911358, 28.761585983664343]\n"
     ]
    }
   ],
   "source": [
    "##############################################################################\n",
    "#                     TODO: Print out the table chart                       #\n",
    "##############################################################################\n",
    "kfold_cross_val_results = pd.DataFrame({\"Folds\": indices, \"Linear\": linear_errors, \"Quadratic\": quadratic_errors, \"Cubic\":\n",
    "                                       cubic_errors, \"Fourth\": fourth_errors})\n",
    "print(kfold_cross_val_results)\n",
    "print(\"Mean Train\", mean_train)\n",
    "print(\"Mean Test\", mean_test)\n",
    "##############################################################################\n",
    "#                              END OF YOUR CODE                              #\n",
    "##############################################################################"
   ]
  },
  {
   "cell_type": "code",
   "execution_count": 91,
   "metadata": {},
   "outputs": [
    {
     "data": {
      "image/png": "[encoded data removed]",
      "text/plain": [
       "<Figure size 640x480 with 1 Axes>"
      ]
     },
     "metadata": {},
     "output_type": "display_data"
    }
   ],
   "source": [
    "##############################################################################\n",
    "#                     TODO: Plot the J curve                                 #\n",
    "##############################################################################\n",
    "import matplotlib.pyplot as plt\n",
    "x_axis = [1,2,3,4]\n",
    "plt.plot(x_axis, mean_train, 'r', label=\"Train\")\n",
    "plt.plot(x_axis, mean_test, 'g', label=\"Test\")\n",
    "plt.legend()\n",
    "plt.xlabel(\"Degrees of polynomial\")\n",
    "plt.ylabel(\"Sqaured Error Cost Function\")\n",
    "plt.show()\n",
    "##############################################################################\n",
    "#                              END OF YOUR CODE                              #\n",
    "##############################################################################"
   ]
  },
  {
   "cell_type": "markdown",
   "metadata": {},
   "source": [
    "Based on your data and plot, you should then briefly discuss **which model is the best** for the record time prediction.\n",
    "\n",
    "**Your Answer:**  \n",
    "According to the above plot, the linear model is having low train and test error. So for the given dataset, I choose linear model for the record time prediction."
   ]
  },
  {
   "cell_type": "markdown",
   "metadata": {},
   "source": [
    "Next, compute the final weights of the best model utilizing the **complete data set**"
   ]
  },
  {
   "cell_type": "code",
   "execution_count": 92,
   "metadata": {},
   "outputs": [
    {
     "name": "stderr",
     "output_type": "stream",
     "text": [
      "C:\\Users\\rlgay\\AppData\\Local\\Temp\\ipykernel_38164\\778087192.py:26: FutureWarning: Calling a ufunc on non-aligned DataFrames (or DataFrame/Series combination). Currently, the indices are ignored and the result takes the index/columns of the first DataFrame. In the future , the DataFrames/Series will be aligned before applying the ufunc.\n",
      "Convert one of the arguments to a NumPy array (eg 'ufunc(df1, np.asarray(df2)') to keep the current behaviour, or align manually (eg 'df1, df2 = df1.align(df2)') before passing to the ufunc to obtain the future behaviour and silence this warning.\n",
      "  w = np.matmul(np.matmul(np.linalg.inv(np.matmul(x.transpose(), x)), x.transpose()), y)\n"
     ]
    }
   ],
   "source": [
    "##############################################################################\n",
    "#              TODO: Calculate the final regression model                    #\n",
    "##############################################################################\n",
    "linear_regression_weights = get_weights(linear.iloc[:,0:2], linear.iloc[:,-1])\n",
    "##############################################################################\n",
    "#                              END OF YOUR CODE                              #\n",
    "##############################################################################"
   ]
  },
  {
   "cell_type": "markdown",
   "metadata": {},
   "source": [
    "## Prediction Using the Best Model"
   ]
  },
  {
   "cell_type": "markdown",
   "metadata": {},
   "source": [
    "Write a Python program that takes a **year** as input, then outputs the winning women’s Olympic 100-meter **race time** for that year (round to two decimal places). You need to try and print out the results of **at least three different years**, and the final trial should output the race time of **2024**."
   ]
  },
  {
   "cell_type": "code",
   "execution_count": 93,
   "metadata": {},
   "outputs": [
    {
     "name": "stdout",
     "output_type": "stream",
     "text": [
      "11.62\n",
      "11.88\n",
      "12.13\n"
     ]
    }
   ],
   "source": [
    "##############################################################################\n",
    "#         TODO: Predict the race time using the best model                   #\n",
    "##############################################################################\n",
    "def predict(x, w):\n",
    "    x = x - 1900\n",
    "    test_x = [1, x]\n",
    "    test_x = np.array(test_x)\n",
    "    return np.matmul(test_x, w)\n",
    "\n",
    "print(\"{:.2f}\".format(predict(2004, linear_regression_weights)))\n",
    "print(\"{:.2f}\".format(predict(2014, linear_regression_weights,)))\n",
    "print(\"{:.2f}\".format(predict(2024, linear_regression_weights,)))\n",
    "##############################################################################\n",
    "#                              END OF YOUR CODE                              #\n",
    "##############################################################################"
   ]
  },
  {
   "cell_type": "code",
   "execution_count": null,
   "metadata": {},
   "outputs": [],
   "source": []
  }
 ],
 "metadata": {
  "kernelspec": {
   "display_name": "Python 3 (ipykernel)",
   "language": "python",
   "name": "python3"
  },
  "language_info": {
   "codemirror_mode": {
    "name": "ipython",
    "version": 3
   },
   "file_extension": ".py",
   "mimetype": "text/x-python",
   "name": "python",
   "nbconvert_exporter": "python",
   "pygments_lexer": "ipython3",
   "version": "3.11.4"
  }
 },
 "nbformat": 4,
 "nbformat_minor": 2
}
