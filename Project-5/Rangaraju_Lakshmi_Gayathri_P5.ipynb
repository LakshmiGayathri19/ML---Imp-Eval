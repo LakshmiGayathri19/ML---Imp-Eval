{
 "cells": [
  {
   "cell_type": "markdown",
   "metadata": {},
   "source": [
    "# Project 5: K-Means Clustering\n",
    "\n",
    "Before we start, please put your name and CUID in following format\n",
    "\n",
    ": Firstname LASTNAME, #00000000   //   e.g. Nianyi LI, #12345678"
   ]
  },
  {
   "cell_type": "markdown",
   "metadata": {},
   "source": [
    "**Your Answer:**   \n",
    "Lakshmi Gayathri Rangaraju, #C81311556"
   ]
  },
  {
   "cell_type": "markdown",
   "metadata": {},
   "source": [
    "# General Rules of the Project Submission\n",
    "\n",
    "Python 3 and [Matplotlib](https://matplotlib.org/) will be used throughout the semseter, so it is important to be familiar with them. It is strongly suggested to go through [Stanford CS231n](http://cs231n.github.io/python-numpy-tutorial/) and [CS228](https://github.com/kuleshov/cs228-material/blob/master/tutorials/python/cs228-python-tutorial.ipynb) for more detailed Python and numpy tutorials if you haven't had used Python before. \n",
    "\n",
    "In some cells and files you will see code blocks that look like this:\n",
    "\n",
    "```python\n",
    "##############################################################################\n",
    "#                    TODO: Write the equation for a line                     #\n",
    "##############################################################################\n",
    "pass\n",
    "##############################################################################\n",
    "#                              END OF YOUR CODE                              #\n",
    "##############################################################################\n",
    "```\n",
    "\n",
    "You should replace the `pass` statement with your own code and leave the blocks intact, like this:\n",
    "\n",
    "```python\n",
    "##############################################################################\n",
    "#                    TODO: Write the equation for a line                     #\n",
    "##############################################################################\n",
    "y = m * x + b\n",
    "##############################################################################\n",
    "#                              END OF YOUR CODE                              #\n",
    "##############################################################################\n",
    "```\n",
    "\n",
    "When completing the notebook, please adhere to the following rules:\n",
    "- Do not write or modify any code outside of code blocks\n",
    "- Follow the instruction of the project description carefully\n",
    "- Run all cells before submitting. <span style=\"color:red\">**You will only get credit for code that has been run!**.</span>\n",
    "\n",
    "The last point is extremely important and bears repeating:\n",
    "\n",
    "### We will not re-run your notebook -- <span style=\"color:red\">you will only get credit for cells that have been run</span>\n",
    "\n",
    "### File name\n",
    "Your Python program should be named **yourlastname_yourfirstname_P5.ipynb**, then zip it and upload to Canvas"
   ]
  },
  {
   "cell_type": "markdown",
   "metadata": {},
   "source": [
    "# Project Description\n",
    "\n",
    "For this project you will implement a **K-means** clustering algorithm.\n"
   ]
  },
  {
   "cell_type": "markdown",
   "metadata": {},
   "source": [
    "## Data File"
   ]
  },
  {
   "cell_type": "markdown",
   "metadata": {},
   "source": [
    "Two text files with the data is available on Canvas: a data file and a centroids file. You need to write a code to read data from the two files. \n",
    "\n",
    "The **data file** will be formatted with the first line containing m and n, tab separated, where m is the number of lines of data and n is the number of features (for this assignment n will be 2 but assume we still put it into the file.)\n",
    "\n",
    "Each line will contain two real values (feature $x_1$ and feature $x_2$), tab separated. Such as the following:\n",
    "```\n",
    "\n",
    "4\t2\n",
    "6.3\t6.0\n",
    "6.7\t5.8\n",
    "5.7\t4.1\n",
    "5.6\t3.9\n",
    "```\n",
    "The **centroid file** containing two initial centroids, formatted with the number of centroids on the first line and the coordinates of each centroid on the following lines, one centroid per line, tab separated. Such as:\n",
    "```\n",
    "2\n",
    "4 4\n",
    "6 6\n",
    "```\n",
    "\n",
    "You **can** use packages, such as **panda**, to load the data.\n"
   ]
  },
  {
   "cell_type": "code",
   "execution_count": 10,
   "metadata": {},
   "outputs": [
    {
     "name": "stdout",
     "output_type": "stream",
     "text": [
      "   x    y\n",
      "1  7  2.0\n",
      "2  4  4.0\n",
      "    x1   x2\n",
      "1  5.1  3.5\n",
      "2  4.9  3.0\n",
      "3  4.7  3.2\n",
      "4  4.6  3.1\n",
      "5  5.0  3.6\n"
     ]
    }
   ],
   "source": [
    "##############################################################################\n",
    "#         TODO: Write the code for reading data from files                    #\n",
    "##############################################################################\n",
    "# Code to load centroids' coordinates\n",
    "import pandas as pd\n",
    "\n",
    "centroid_data = pd.read_csv(\"P5_Centroids.txt\", sep=\"\\t\", names=['x', 'y'])\n",
    "centroid_data = centroid_data.iloc[1:][:]\n",
    "print(centroid_data.head())\n",
    "\n",
    "# Code to load data points' coordinates\n",
    "data_points = pd.read_csv(\"P5_Data.txt\", sep=\"\\t\", names=['x1', 'x2'])\n",
    "data_points = data_points.iloc[1:][:]\n",
    "print(data_points.head())\n",
    "##############################################################################\n",
    "#                              END OF YOUR CODE                              #\n",
    "##############################################################################"
   ]
  },
  {
   "cell_type": "markdown",
   "metadata": {},
   "source": [
    "Next, you need to print out a plot of the data to the screen, including the two initial centroids (color coded) like the following figure:\n",
    "\n",
    "<div>\n",
    "<img src=\"https://nianyil.people.clemson.edu/CPSC_4430/P5_1.jpg\" width=\"400\"/>\n",
    "</div>"
   ]
  },
  {
   "cell_type": "markdown",
   "metadata": {},
   "source": [
    "## K-means Clustering"
   ]
  },
  {
   "cell_type": "markdown",
   "metadata": {},
   "source": [
    "Implement K-means (**K=2**) to cluster the data into two groups."
   ]
  },
  {
   "cell_type": "code",
   "execution_count": 19,
   "metadata": {},
   "outputs": [],
   "source": [
    "##############################################################################\n",
    "#                TODO: Implement the K-means clustering                      #\n",
    "##############################################################################\n",
    "import numpy as np\n",
    "\n",
    "def assign_clusters(data, centroids):\n",
    "    distances = np.linalg.norm(data[:, np.newaxis] - centroids, axis=2)\n",
    "    clusters = np.argmin(distances, axis=1)\n",
    "    return clusters\n",
    "\n",
    "def update_centroids(data, clusters, k):\n",
    "    centroids = np.array([np.mean(data[clusters == i], axis=0) for i in range(k)])\n",
    "    return centroids\n",
    "\n",
    "def k_means(data, k, initial_centroids, max_iterations=100):\n",
    "    centroids = np.array(initial_centroids)\n",
    "    \n",
    "    for _ in range(max_iterations):\n",
    "        # Assign data points to clusters\n",
    "        clusters = assign_clusters(data, centroids)\n",
    "        \n",
    "        # Update centroids\n",
    "        new_centroids = update_centroids(data, clusters, k)\n",
    "        \n",
    "        # Check for convergence\n",
    "        if np.all(centroids == new_centroids):\n",
    "            break\n",
    "        \n",
    "        centroids = new_centroids\n",
    "    \n",
    "    return clusters, centroids\n",
    "\n",
    "# Run k-means clustering\n",
    "initial_centroids = np.array([centroid_data.iloc[0], centroid_data.iloc[1]])\n",
    "clusters, final_centroids = k_means(np.array(data_points.iloc[:][:]), 2, initial_centroids)\n",
    "##############################################################################\n",
    "#                              END OF YOUR CODE                              #\n",
    "##############################################################################"
   ]
  },
  {
   "cell_type": "markdown",
   "metadata": {},
   "source": [
    "Once the algorithm converged, print out a plot of the cluster data with each cluster color coded along with the final centroids like the following:\n",
    "<div>\n",
    "<img src=\"https://nianyil.people.clemson.edu/CPSC_4430/P5_2.jpg\" width=\"400\"/>\n",
    "</div>"
   ]
  },
  {
   "cell_type": "code",
   "execution_count": 35,
   "metadata": {},
   "outputs": [
    {
     "data": {
      "image/png": "[encoded data removed]",
      "text/plain": [
       "<Figure size 640x480 with 1 Axes>"
      ]
     },
     "metadata": {},
     "output_type": "display_data"
    }
   ],
   "source": [
    "##############################################################################\n",
    "#                TODO: Plot the clustering result                           #\n",
    "##############################################################################\n",
    "import matplotlib.pyplot as plt\n",
    "\n",
    "data = np.array(data_points.iloc[:][:])\n",
    "plt.scatter(data[:, 0], data[:, 1], c=clusters, cmap='viridis')\n",
    "plt.scatter(final_centroids[:, 0], final_centroids[:, 1], marker='X', s=200, c='red', label='Final Centroids')\n",
    "plt.scatter(initial_centroids[:, 0], initial_centroids[:, 1], marker='o', s=200, c='blue', label='Initial Centroids')\n",
    "plt.legend()\n",
    "plt.title('K-Means Clustering')\n",
    "plt.show()\n",
    "##############################################################################\n",
    "#                              END OF YOUR CODE                              #\n",
    "##############################################################################"
   ]
  },
  {
   "cell_type": "markdown",
   "metadata": {},
   "source": [
    "Next, print out the coordinates of the final centroids."
   ]
  },
  {
   "cell_type": "code",
   "execution_count": 39,
   "metadata": {},
   "outputs": [
    {
     "name": "stdout",
     "output_type": "stream",
     "text": [
      "final centroids' coordinates are \n",
      "X1 =  6.0266666666666655 , y1 =  2.7911111111111118\n",
      "X2 =  5.016363636363636 , y2 =  3.3418181818181827\n"
     ]
    }
   ],
   "source": [
    "##############################################################################\n",
    "#       TODO: print out the final centroids' coordinates                     #\n",
    "##############################################################################\n",
    "print(\"final centroids' coordinates are \")\n",
    "print(\"X1 = \", final_centroids[0,0], \", y1 = \", final_centroids[0,1])\n",
    "print(\"X2 = \", final_centroids[1,0], \", y2 = \", final_centroids[1,1])\n",
    "##############################################################################\n",
    "#                              END OF YOUR CODE                              #\n",
    "##############################################################################"
   ]
  },
  {
   "cell_type": "markdown",
   "metadata": {},
   "source": [
    "## Model Evaluation"
   ]
  },
  {
   "cell_type": "markdown",
   "metadata": {},
   "source": [
    "Compute and **print out the overall error** (J function presented in the course slides) for the entire data set.\n"
   ]
  },
  {
   "cell_type": "code",
   "execution_count": 40,
   "metadata": {},
   "outputs": [
    {
     "name": "stdout",
     "output_type": "stream",
     "text": [
      "Overall Error =  30.433535353535362\n"
     ]
    }
   ],
   "source": [
    "##############################################################################\n",
    "#                           TODO: Model Evaluation                           #\n",
    "##############################################################################\n",
    "def compute_error(data, clusters, centroids):\n",
    "    # Computing sum of squares for all data points and the cluster centroids.\n",
    "    wcss = np.sum(np.square(np.linalg.norm(data - centroids[clusters], axis=1)))\n",
    "    return wcss\n",
    "\n",
    "data = np.array(data_points.iloc[:][:])\n",
    "error = compute_error(data, clusters, final_centroids)\n",
    "print(\"Overall Error = \", error)\n",
    "##############################################################################\n",
    "#                              END OF YOUR CODE                              #\n",
    "##############################################################################"
   ]
  },
  {
   "cell_type": "code",
   "execution_count": null,
   "metadata": {},
   "outputs": [],
   "source": []
  }
 ],
 "metadata": {
  "kernelspec": {
   "display_name": "Python 3 (ipykernel)",
   "language": "python",
   "name": "python3"
  },
  "language_info": {
   "codemirror_mode": {
    "name": "ipython",
    "version": 3
   },
   "file_extension": ".py",
   "mimetype": "text/x-python",
   "name": "python",
   "nbconvert_exporter": "python",
   "pygments_lexer": "ipython3",
   "version": "3.11.4"
  }
 },
 "nbformat": 4,
 "nbformat_minor": 2
}
